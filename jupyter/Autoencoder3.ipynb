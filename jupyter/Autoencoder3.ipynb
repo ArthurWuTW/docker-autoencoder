{
 "cells": [
  {
   "cell_type": "code",
   "execution_count": 1,
   "id": "8b9f6007-58c0-460d-9ba0-1556c1524afb",
   "metadata": {},
   "outputs": [],
   "source": [
    "from torchvision import datasets\n",
    "import torch\n",
    "import torch.nn as nn\n",
    "import torch.utils.data as data\n",
    "import torchvision\n",
    "import torch.optim as optim\n",
    "from torch.utils.data import DataLoader\n",
    "from torchvision.transforms import transforms\n",
    "import numpy as np\n",
    "import torchvision.utils as vutils\n",
    "import PIL.Image as Image\n",
    "import matplotlib.pyplot as plt\n",
    "torch.cuda.is_available()\n",
    "from torchsummary import summary"
   ]
  },
  {
   "cell_type": "code",
   "execution_count": 2,
   "id": "3e25620e-5134-4914-bd11-bee9a8fe3675",
   "metadata": {},
   "outputs": [],
   "source": [
    "# Transforms images to a PyTorch Tensor\n",
    "tensor_transform = transforms.ToTensor()\n",
    " \n",
    "# Download the MNIST Dataset\n",
    "dataset = datasets.MNIST(root = \"./data\",\n",
    "                         train = True,\n",
    "                         download = True,\n",
    "                         transform = tensor_transform)\n",
    " \n",
    "# DataLoader is used to load the dataset \n",
    "# for training\n",
    "labels = [1, 2, 3, 4, 6, 7, 8, 9]\n",
    "indices = [idx for idx, target in enumerate(dataset.targets) if target in labels]\n",
    "loader = torch.utils.data.DataLoader(torch.utils.data.Subset(dataset, indices),\n",
    "                                     batch_size = 32,\n",
    "                                     shuffle = True)"
   ]
  },
  {
   "cell_type": "code",
   "execution_count": 3,
   "id": "ee73ca13-5805-40e9-b2fc-24e6a8726d31",
   "metadata": {},
   "outputs": [
    {
     "data": {
      "text/plain": [
       "1521"
      ]
     },
     "execution_count": 3,
     "metadata": {},
     "output_type": "execute_result"
    }
   ],
   "source": [
    "len(loader)"
   ]
  },
  {
   "cell_type": "code",
   "execution_count": 4,
   "id": "795e188a-b123-418c-85be-cba5d56e3684",
   "metadata": {},
   "outputs": [],
   "source": [
    "# Model structure\n",
    "class Encoder(nn.Module):\n",
    "    def __init__(self):\n",
    "        super(Encoder, self).__init__()\n",
    "        # Encoder\n",
    "        self.encoder = torch.nn.Sequential(\n",
    "            nn.Linear(784, 256),\n",
    "            nn.Tanh(),\n",
    "            nn.Linear(256, 128),\n",
    "            nn.Tanh(),\n",
    "            nn.Linear(128, 64),\n",
    "            nn.Tanh(),\n",
    "            nn.Linear(64, 2),\n",
    "            nn.Tanh()\n",
    "        )\n",
    "    def forward(self, inputs):\n",
    "        codes = self.encoder(inputs)\n",
    "        return codes\n",
    "class Decoder(nn.Module):\n",
    "    def __init__(self):\n",
    "        super(Decoder, self).__init__()\n",
    "        # Decoder\n",
    "        self.decoder = nn.Sequential(\n",
    "            nn.Linear(2, 64),\n",
    "            nn.Tanh(),\n",
    "            nn.Linear(64, 128),\n",
    "            nn.Tanh(),\n",
    "            nn.Linear(128, 256),\n",
    "            nn.Tanh(),\n",
    "            nn.Linear(256, 784),\n",
    "            nn.Sigmoid()\n",
    "        )\n",
    "    def forward(self, inputs):\n",
    "        outputs = self.decoder(inputs)\n",
    "        return outputs\n",
    "\n",
    "class AutoEncoder(nn.Module):\n",
    "    def __init__(self):\n",
    "        super(AutoEncoder, self).__init__()\n",
    "        # Encoder\n",
    "        self.encoder = Encoder()\n",
    "        # Decoder\n",
    "        self.decoder = Decoder()    \n",
    "    def forward(self, inputs): # 修改縮排20241226\n",
    "        codes = self.encoder(inputs)\n",
    "        decoded = self.decoder(codes)\n",
    "        return codes, decoded"
   ]
  },
  {
   "cell_type": "code",
   "execution_count": 5,
   "id": "52656c3d-e341-4724-ae4b-f9ff1abe3a2e",
   "metadata": {},
   "outputs": [
    {
     "name": "stdout",
     "output_type": "stream",
     "text": [
      "----------------------------------------------------------------\n",
      "        Layer (type)               Output Shape         Param #\n",
      "================================================================\n",
      "            Linear-1               [-1, 1, 256]         200,960\n",
      "              Tanh-2               [-1, 1, 256]               0\n",
      "            Linear-3               [-1, 1, 128]          32,896\n",
      "              Tanh-4               [-1, 1, 128]               0\n",
      "            Linear-5                [-1, 1, 64]           8,256\n",
      "              Tanh-6                [-1, 1, 64]               0\n",
      "            Linear-7                 [-1, 1, 2]             130\n",
      "              Tanh-8                 [-1, 1, 2]               0\n",
      "================================================================\n",
      "Total params: 242,242\n",
      "Trainable params: 242,242\n",
      "Non-trainable params: 0\n",
      "----------------------------------------------------------------\n",
      "Input size (MB): 0.00\n",
      "Forward/backward pass size (MB): 0.01\n",
      "Params size (MB): 0.92\n",
      "Estimated Total Size (MB): 0.93\n",
      "----------------------------------------------------------------\n",
      "----------------------------------------------------------------\n",
      "        Layer (type)               Output Shape         Param #\n",
      "================================================================\n",
      "            Linear-1                [-1, 1, 64]             192\n",
      "              Tanh-2                [-1, 1, 64]               0\n",
      "            Linear-3               [-1, 1, 128]           8,320\n",
      "              Tanh-4               [-1, 1, 128]               0\n",
      "            Linear-5               [-1, 1, 256]          33,024\n",
      "              Tanh-6               [-1, 1, 256]               0\n",
      "            Linear-7               [-1, 1, 784]         201,488\n",
      "           Sigmoid-8               [-1, 1, 784]               0\n",
      "================================================================\n",
      "Total params: 243,024\n",
      "Trainable params: 243,024\n",
      "Non-trainable params: 0\n",
      "----------------------------------------------------------------\n",
      "Input size (MB): 0.00\n",
      "Forward/backward pass size (MB): 0.02\n",
      "Params size (MB): 0.93\n",
      "Estimated Total Size (MB): 0.95\n",
      "----------------------------------------------------------------\n"
     ]
    }
   ],
   "source": [
    "epochs = 30\n",
    "batch_size = 64\n",
    "lr = 0.001\n",
    "use_cuda = 1\n",
    "device = torch.device(\"cuda\" if (torch.cuda.is_available() & use_cuda) else \"cpu\")\n",
    "\n",
    "model_encoder = Encoder().to(device)\n",
    "model_decoder = Decoder().to(device)\n",
    "\n",
    "summary(model_encoder, (1, 784))\n",
    "summary(model_decoder, (1, 2))"
   ]
  },
  {
   "cell_type": "code",
   "execution_count": 7,
   "id": "a9d58a07-33b6-4ecc-8ba1-76fe9e9f0181",
   "metadata": {},
   "outputs": [
    {
     "name": "stdout",
     "output_type": "stream",
     "text": [
      "[1/30] Loss: 0.0013062169309705496\n",
      "[6/30] Loss: 0.001128370058722794\n",
      "[11/30] Loss: 0.001087098615244031\n",
      "[16/30] Loss: 0.0010710093192756176\n",
      "[21/30] Loss: 0.0010610026074573398\n",
      "[26/30] Loss: 0.0010521792573854327\n",
      "[30/30] Loss: 0.0010479384800419211\n"
     ]
    }
   ],
   "source": [
    "optimizer_En = torch.optim.Adam(model_encoder.parameters(), lr=lr)\n",
    "optimizer_De = torch.optim.Adam(model_decoder.parameters(), lr=lr)\n",
    "loss_function = nn.MSELoss().to(device)# Train\n",
    "model_encoder.train()\n",
    "model_decoder.train()\n",
    "log_loss=[]\n",
    "for epoch in range(epochs):\n",
    "    total_loss = 0\n",
    "    for data, _ in loader:\n",
    "        inputs = data.view(-1, 784).to(device) \n",
    "        \n",
    "        model_encoder.zero_grad()\n",
    "        model_decoder.zero_grad()\n",
    "        \n",
    "        codes = model_encoder(inputs)\n",
    "        decoded = model_decoder(codes)\n",
    "        loss = loss_function(decoded, inputs)\n",
    "        loss.backward()\n",
    "        \n",
    "        optimizer_En.step()\n",
    "        optimizer_De.step()\n",
    "        \n",
    "        total_loss+=loss\n",
    "        log_loss.append(loss)\n",
    "    total_loss /= len(loader.dataset)\n",
    "    \n",
    "    if epoch % 5 ==0:\n",
    "        print('[{}/{}] Loss:'.format(epoch+1, epochs), total_loss.item())\n",
    "print('[{}/{}] Loss:'.format(epoch+1, epochs), total_loss.item())"
   ]
  },
  {
   "cell_type": "code",
   "execution_count": 8,
   "id": "fe51295a-f08f-4a51-b540-765bef08ee3c",
   "metadata": {},
   "outputs": [],
   "source": [
    "torch.save(model_encoder, 'mode_AutoEncoder_MNIST_Encoder3.pth')\n",
    "torch.save(model_decoder, 'mode_AutoEncoder_MNIST_Decoder3.pth')"
   ]
  },
  {
   "cell_type": "code",
   "execution_count": 9,
   "id": "1ebf729d-372f-439e-ae8d-fdedbc48bd8b",
   "metadata": {},
   "outputs": [
    {
     "name": "stdout",
     "output_type": "stream",
     "text": [
      "8128\n",
      "892\n"
     ]
    }
   ],
   "source": [
    "test_dataset = datasets.MNIST('./data', train=False, download=True, transform= transforms.ToTensor())\n",
    "\n",
    "# Exclude Label 5 Test \n",
    "labels_t1 = [1, 2, 3, 4, 6, 7, 8, 9]\n",
    "indices_t1 = [idx for idx, target in enumerate(test_dataset.targets) if target in labels_t1]\n",
    "loader_t1 = torch.utils.data.DataLoader(torch.utils.data.Subset(test_dataset, indices_t1),\n",
    "                                     batch_size = 1,\n",
    "                                     shuffle = True)\n",
    "\n",
    "# Label 5 \n",
    "labels_t2 = [5]\n",
    "indices_t2 = [idx for idx, target in enumerate(test_dataset.targets) if target in labels_t2]\n",
    "loader_t2 = torch.utils.data.DataLoader(torch.utils.data.Subset(test_dataset, indices_t2),\n",
    "                                     batch_size = 1,\n",
    "                                     shuffle = True)\n",
    "\n",
    "print(len(loader_t1))\n",
    "print(len(loader_t2))"
   ]
  },
  {
   "cell_type": "code",
   "execution_count": 10,
   "id": "e1e1dcb4-4bbe-4e9c-85d6-7267253f22c3",
   "metadata": {},
   "outputs": [],
   "source": [
    "def show_images(images):\n",
    "    sqrtn = int(np.ceil(np.sqrt(images.shape[0])))\n",
    "    for index, image in enumerate(images):\n",
    "        plt.subplot(sqrtn, sqrtn, index+1)\n",
    "        plt.imshow(image.reshape(28, 28))\n",
    "        plt.axis('off')# Load model"
   ]
  },
  {
   "cell_type": "code",
   "execution_count": 11,
   "id": "80cc266f-69bc-4783-8551-a8dec0e405d2",
   "metadata": {},
   "outputs": [
    {
     "data": {
      "image/png": "[encoded data removed]",
      "text/plain": [
       "<Figure size 640x480 with 1 Axes>"
      ]
     },
     "metadata": {},
     "output_type": "display_data"
    },
    {
     "data": {
      "image/png": "[encoded data removed]",
      "text/plain": [
       "<Figure size 640x480 with 1 Axes>"
      ]
     },
     "metadata": {},
     "output_type": "display_data"
    },
    {
     "name": "stdout",
     "output_type": "stream",
     "text": [
      "0.011102374643087387\n"
     ]
    },
    {
     "data": {
      "image/png": "[encoded data removed]",
      "text/plain": [
       "<Figure size 640x480 with 1 Axes>"
      ]
     },
     "metadata": {},
     "output_type": "display_data"
    },
    {
     "data": {
      "image/png": "[encoded data removed]",
      "text/plain": [
       "<Figure size 640x480 with 1 Axes>"
      ]
     },
     "metadata": {},
     "output_type": "display_data"
    },
    {
     "name": "stdout",
     "output_type": "stream",
     "text": [
      "0.03788818046450615\n"
     ]
    },
    {
     "data": {
      "image/png": "[encoded data removed]",
      "text/plain": [
       "<Figure size 640x480 with 1 Axes>"
      ]
     },
     "metadata": {},
     "output_type": "display_data"
    },
    {
     "data": {
      "image/png": "[encoded data removed]",
      "text/plain": [
       "<Figure size 640x480 with 1 Axes>"
      ]
     },
     "metadata": {},
     "output_type": "display_data"
    },
    {
     "name": "stdout",
     "output_type": "stream",
     "text": [
      "0.004120659548789263\n"
     ]
    },
    {
     "data": {
      "image/png": "[encoded data removed]",
      "text/plain": [
       "<Figure size 640x480 with 1 Axes>"
      ]
     },
     "metadata": {},
     "output_type": "display_data"
    },
    {
     "data": {
      "image/png": "[encoded data removed]",
      "text/plain": [
       "<Figure size 640x480 with 1 Axes>"
      ]
     },
     "metadata": {},
     "output_type": "display_data"
    },
    {
     "name": "stdout",
     "output_type": "stream",
     "text": [
      "0.07120976597070694\n"
     ]
    },
    {
     "data": {
      "image/png": "[encoded data removed]",
      "text/plain": [
       "<Figure size 640x480 with 1 Axes>"
      ]
     },
     "metadata": {},
     "output_type": "display_data"
    },
    {
     "data": {
      "image/png": "[encoded data removed]",
      "text/plain": [
       "<Figure size 640x480 with 1 Axes>"
      ]
     },
     "metadata": {},
     "output_type": "display_data"
    },
    {
     "name": "stdout",
     "output_type": "stream",
     "text": [
      "0.020571082830429077\n"
     ]
    }
   ],
   "source": [
    "criterion = nn.MSELoss(reduction='mean')\n",
    "loss_dist = []\n",
    "model_encoder.eval()\n",
    "model_decoder.eval()\n",
    "with torch.no_grad():\n",
    "    for i, (data, target) in enumerate(loader_t1):\n",
    "        inputs = data.view(-1, 28*28).to(device)\n",
    "        # Forward\n",
    "        model_encoder.zero_grad()\n",
    "        model_decoder.zero_grad()\n",
    "        \n",
    "        codes = model_encoder(inputs)\n",
    "        decoded = model_decoder(codes)\n",
    "\n",
    "        show_images(inputs.detach().cpu())\n",
    "        plt.show()# Forward\n",
    "\n",
    "        show_images(decoded.detach().cpu())\n",
    "        plt.show()# Forward\n",
    "        \n",
    "        \n",
    "        loss = criterion(inputs.to(device), decoded)\n",
    "        loss_dist.append(loss.item())\n",
    "\n",
    "        print(loss.item())\n",
    "\n",
    "        if i>3:\n",
    "            break\n"
   ]
  },
  {
   "cell_type": "code",
   "execution_count": 12,
   "id": "1fb52334-39fe-4984-9e7a-733613791a60",
   "metadata": {},
   "outputs": [
    {
     "data": {
      "image/png": "[encoded data removed]",
      "text/plain": [
       "<Figure size 640x480 with 1 Axes>"
      ]
     },
     "metadata": {},
     "output_type": "display_data"
    },
    {
     "data": {
      "image/png": "[encoded data removed]",
      "text/plain": [
       "<Figure size 640x480 with 1 Axes>"
      ]
     },
     "metadata": {},
     "output_type": "display_data"
    },
    {
     "name": "stdout",
     "output_type": "stream",
     "text": [
      "0.05032070353627205\n"
     ]
    },
    {
     "data": {
      "image/png": "[encoded data removed]",
      "text/plain": [
       "<Figure size 640x480 with 1 Axes>"
      ]
     },
     "metadata": {},
     "output_type": "display_data"
    },
    {
     "data": {
      "image/png": "[encoded data removed]",
      "text/plain": [
       "<Figure size 640x480 with 1 Axes>"
      ]
     },
     "metadata": {},
     "output_type": "display_data"
    },
    {
     "name": "stdout",
     "output_type": "stream",
     "text": [
      "0.061038654297590256\n"
     ]
    },
    {
     "data": {
      "image/png": "[encoded data removed]",
      "text/plain": [
       "<Figure size 640x480 with 1 Axes>"
      ]
     },
     "metadata": {},
     "output_type": "display_data"
    },
    {
     "data": {
      "image/png": "[encoded data removed]",
      "text/plain": [
       "<Figure size 640x480 with 1 Axes>"
      ]
     },
     "metadata": {},
     "output_type": "display_data"
    },
    {
     "name": "stdout",
     "output_type": "stream",
     "text": [
      "0.10100273042917252\n"
     ]
    },
    {
     "data": {
      "image/png": "[encoded data removed]",
      "text/plain": [
       "<Figure size 640x480 with 1 Axes>"
      ]
     },
     "metadata": {},
     "output_type": "display_data"
    },
    {
     "data": {
      "image/png": "[encoded data removed]",
      "text/plain": [
       "<Figure size 640x480 with 1 Axes>"
      ]
     },
     "metadata": {},
     "output_type": "display_data"
    },
    {
     "name": "stdout",
     "output_type": "stream",
     "text": [
      "0.08844467252492905\n"
     ]
    },
    {
     "data": {
      "image/png": "[encoded data removed]",
      "text/plain": [
       "<Figure size 640x480 with 1 Axes>"
      ]
     },
     "metadata": {},
     "output_type": "display_data"
    },
    {
     "data": {
      "image/png": "[encoded data removed]",
      "text/plain": [
       "<Figure size 640x480 with 1 Axes>"
      ]
     },
     "metadata": {},
     "output_type": "display_data"
    },
    {
     "name": "stdout",
     "output_type": "stream",
     "text": [
      "0.09248308092355728\n"
     ]
    }
   ],
   "source": [
    "criterion = nn.MSELoss(reduction='mean')\n",
    "loss_dist = []\n",
    "model_encoder.eval()\n",
    "model_decoder.eval()\n",
    "with torch.no_grad():\n",
    "    for i, (data, target) in enumerate(loader_t2):\n",
    "        inputs = data.view(-1, 28*28).to(device)\n",
    "        # Forward\n",
    "        model_encoder.zero_grad()\n",
    "        model_decoder.zero_grad()\n",
    "        \n",
    "        codes = model_encoder(inputs)\n",
    "        decoded = model_decoder(codes)\n",
    "\n",
    "        show_images(inputs.detach().cpu())\n",
    "        plt.show()# Forward\n",
    "\n",
    "        show_images(decoded.detach().cpu())\n",
    "        plt.show()# Forward\n",
    "        \n",
    "        \n",
    "        loss = criterion(inputs.to(device), decoded)\n",
    "        loss_dist.append(loss.item())\n",
    "\n",
    "        print(loss.item())\n",
    "\n",
    "        if i>3:\n",
    "            break"
   ]
  },
  {
   "cell_type": "code",
   "execution_count": null,
   "id": "4938b75c-d671-444d-ab03-32b405936d30",
   "metadata": {},
   "outputs": [],
   "source": []
  }
 ],
 "metadata": {
  "kernelspec": {
   "display_name": "Python 3 (ipykernel)",
   "language": "python",
   "name": "python3"
  },
  "language_info": {
   "codemirror_mode": {
    "name": "ipython",
    "version": 3
   },
   "file_extension": ".py",
   "mimetype": "text/x-python",
   "name": "python",
   "nbconvert_exporter": "python",
   "pygments_lexer": "ipython3",
   "version": "3.12.8"
  }
 },
 "nbformat": 4,
 "nbformat_minor": 5
}
