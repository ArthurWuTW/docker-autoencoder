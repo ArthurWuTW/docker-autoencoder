{
 "cells": [
  {
   "cell_type": "code",
   "execution_count": 1,
   "id": "8b9f6007-58c0-460d-9ba0-1556c1524afb",
   "metadata": {},
   "outputs": [],
   "source": [
    "from torchvision import datasets\n",
    "import torch\n",
    "import torch.nn as nn\n",
    "import torch.utils.data as data\n",
    "import torchvision\n",
    "import torch.optim as optim\n",
    "from torch.utils.data import DataLoader\n",
    "from torchvision.transforms import transforms\n",
    "import numpy as np\n",
    "import torchvision.utils as vutils\n",
    "import PIL.Image as Image\n",
    "import matplotlib.pyplot as plt\n",
    "torch.cuda.is_available()\n",
    "from torchsummary import summary\n",
    "import seaborn as sns"
   ]
  },
  {
   "cell_type": "code",
   "execution_count": 2,
   "id": "3e25620e-5134-4914-bd11-bee9a8fe3675",
   "metadata": {},
   "outputs": [],
   "source": [
    "# Transforms images to a PyTorch Tensor\n",
    "tensor_transform = transforms.ToTensor()\n",
    " \n",
    "# Download the MNIST Dataset\n",
    "dataset = datasets.MNIST(root = \"./data\",\n",
    "                         train = True,\n",
    "                         download = True,\n",
    "                         transform = tensor_transform)\n",
    " \n",
    "# DataLoader is used to load the dataset \n",
    "# for training\n",
    "labels = [1, 2, 3, 4, 5]\n",
    "indices = [idx for idx, target in enumerate(dataset.targets) if target in labels]\n",
    "loader = torch.utils.data.DataLoader(torch.utils.data.Subset(dataset, indices),\n",
    "                                     batch_size = 32,\n",
    "                                     shuffle = True)"
   ]
  },
  {
   "cell_type": "code",
   "execution_count": 3,
   "id": "ee73ca13-5805-40e9-b2fc-24e6a8726d31",
   "metadata": {},
   "outputs": [
    {
     "data": {
      "text/plain": [
       "941"
      ]
     },
     "execution_count": 3,
     "metadata": {},
     "output_type": "execute_result"
    }
   ],
   "source": [
    "len(loader)"
   ]
  },
  {
   "cell_type": "code",
   "execution_count": 4,
   "id": "795e188a-b123-418c-85be-cba5d56e3684",
   "metadata": {},
   "outputs": [],
   "source": [
    "# Define the Autoencoder model with Conv2d layers and a bottleneck (nn.Linear)\n",
    "class AutoEncoder(nn.Module):\n",
    "    def __init__(self):\n",
    "        super(AutoEncoder, self).__init__()\n",
    "        self.encoder = nn.Sequential(\n",
    "            nn.Conv2d(1, 16, kernel_size=3, stride=2, padding=1),\n",
    "            nn.ReLU(),\n",
    "            nn.Conv2d(16, 32, kernel_size=3, stride=2, padding=1),\n",
    "            nn.ReLU(),\n",
    "            nn.Conv2d(32, 64, kernel_size=3, stride=2, padding=1),\n",
    "            nn.ReLU()\n",
    "        )\n",
    "        self.bottleneck = nn.Sequential(\n",
    "            nn.Flatten(),\n",
    "            nn.Linear(64 * 4 * 4, 30),  # Bottleneck layer with reduced dimensionality\n",
    "            nn.ReLU(),\n",
    "            nn.Linear(30, 64 * 4 * 4),  # Bottleneck layer with reduced dimensionality\n",
    "            nn.ReLU()\n",
    "        )\n",
    "        self.decoder = nn.Sequential(\n",
    "            nn.ConvTranspose2d(64, 32, kernel_size=3, stride=2, padding=1, output_padding=1),\n",
    "            nn.ReLU(),\n",
    "            nn.ConvTranspose2d(32, 16, kernel_size=3, stride=2, padding=1, output_padding=0),\n",
    "            nn.ReLU(),\n",
    "            nn.ConvTranspose2d(16, 1, kernel_size=3, stride=2, padding=2, output_padding=1),\n",
    "            nn.Tanh()  # Output values between -1 and 1 (suitable for images)\n",
    "        )\n",
    "\n",
    "    def forward(self, x):\n",
    "        x = self.encoder(x)\n",
    "        x = self.bottleneck(x)\n",
    "        x = self.decoder(x.view(x.size(0), 64, 4, 4))  # Reshape for decoding\n",
    "        return x"
   ]
  },
  {
   "cell_type": "code",
   "execution_count": 5,
   "id": "52656c3d-e341-4724-ae4b-f9ff1abe3a2e",
   "metadata": {},
   "outputs": [
    {
     "name": "stdout",
     "output_type": "stream",
     "text": [
      "----------------------------------------------------------------\n",
      "        Layer (type)               Output Shape         Param #\n",
      "================================================================\n",
      "            Conv2d-1           [-1, 16, 14, 14]             160\n",
      "              ReLU-2           [-1, 16, 14, 14]               0\n",
      "            Conv2d-3             [-1, 32, 7, 7]           4,640\n",
      "              ReLU-4             [-1, 32, 7, 7]               0\n",
      "            Conv2d-5             [-1, 64, 4, 4]          18,496\n",
      "              ReLU-6             [-1, 64, 4, 4]               0\n",
      "           Flatten-7                 [-1, 1024]               0\n",
      "            Linear-8                   [-1, 30]          30,750\n",
      "              ReLU-9                   [-1, 30]               0\n",
      "           Linear-10                 [-1, 1024]          31,744\n",
      "             ReLU-11                 [-1, 1024]               0\n",
      "  ConvTranspose2d-12             [-1, 32, 8, 8]          18,464\n",
      "             ReLU-13             [-1, 32, 8, 8]               0\n",
      "  ConvTranspose2d-14           [-1, 16, 15, 15]           4,624\n",
      "             ReLU-15           [-1, 16, 15, 15]               0\n",
      "  ConvTranspose2d-16            [-1, 1, 28, 28]             145\n",
      "             Tanh-17            [-1, 1, 28, 28]               0\n",
      "================================================================\n",
      "Total params: 109,023\n",
      "Trainable params: 109,023\n",
      "Non-trainable params: 0\n",
      "----------------------------------------------------------------\n",
      "Input size (MB): 0.00\n",
      "Forward/backward pass size (MB): 0.21\n",
      "Params size (MB): 0.42\n",
      "Estimated Total Size (MB): 0.63\n",
      "----------------------------------------------------------------\n"
     ]
    }
   ],
   "source": [
    "epochs = 30\n",
    "batch_size = 64\n",
    "lr = 0.001\n",
    "use_cuda = 1\n",
    "device = torch.device(\"cuda\" if (torch.cuda.is_available() & use_cuda) else \"cpu\")\n",
    "\n",
    "model = AutoEncoder().to(device)\n",
    "\n",
    "summary(model, (1, 28, 28))"
   ]
  },
  {
   "cell_type": "code",
   "execution_count": 6,
   "id": "a9d58a07-33b6-4ecc-8ba1-76fe9e9f0181",
   "metadata": {},
   "outputs": [
    {
     "name": "stdout",
     "output_type": "stream",
     "text": [
      "[1/30] Loss: 0.0008485839935019612\n",
      "[6/30] Loss: 0.0003285144339315593\n",
      "[11/30] Loss: 0.00028532478609122336\n",
      "[16/30] Loss: 0.00026393032749183476\n",
      "[21/30] Loss: 0.0002513235085643828\n",
      "[26/30] Loss: 0.000242426001932472\n",
      "[30/30] Loss: 0.00023702569887973368\n"
     ]
    }
   ],
   "source": [
    "optimizer = torch.optim.Adam(model.parameters(), lr=lr)\n",
    "loss_function = nn.MSELoss().to(device)# Train\n",
    "model.train()\n",
    "log_loss=[]\n",
    "for epoch in range(epochs):\n",
    "    total_loss = 0\n",
    "    for data, _ in loader:\n",
    "        inputs = data.to(device) \n",
    "        \n",
    "        model.zero_grad()\n",
    "        \n",
    "        decoded = model(inputs)\n",
    "        loss = loss_function(decoded, inputs)\n",
    "        loss.backward()\n",
    "        \n",
    "        optimizer.step()\n",
    "        \n",
    "        total_loss+=loss\n",
    "        log_loss.append(loss)\n",
    "    total_loss /= len(loader.dataset)\n",
    "    \n",
    "    if epoch % 5 ==0:\n",
    "        print('[{}/{}] Loss:'.format(epoch+1, epochs), total_loss.item())\n",
    "print('[{}/{}] Loss:'.format(epoch+1, epochs), total_loss.item())"
   ]
  },
  {
   "cell_type": "code",
   "execution_count": 7,
   "id": "fe51295a-f08f-4a51-b540-765bef08ee3c",
   "metadata": {},
   "outputs": [],
   "source": [
    "torch.save(model, 'mode_AutoEncoder_MNIST_Encoder5.pth')"
   ]
  },
  {
   "cell_type": "code",
   "execution_count": 8,
   "id": "1ebf729d-372f-439e-ae8d-fdedbc48bd8b",
   "metadata": {},
   "outputs": [
    {
     "name": "stdout",
     "output_type": "stream",
     "text": [
      "5051\n",
      "4949\n"
     ]
    }
   ],
   "source": [
    "test_dataset = datasets.MNIST('./data', train=False, download=True, transform= transforms.ToTensor())\n",
    "\n",
    "# Exclude Label 5 Test \n",
    "labels_t1 = [1, 2, 3, 4, 5]\n",
    "indices_t1 = [idx for idx, target in enumerate(test_dataset.targets) if target in labels_t1]\n",
    "loader_t1 = torch.utils.data.DataLoader(torch.utils.data.Subset(test_dataset, indices_t1),\n",
    "                                     batch_size = 1,\n",
    "                                     shuffle = True)\n",
    "\n",
    "# Label 5 \n",
    "labels_t2 = [6, 7, 8, 9, 0]\n",
    "indices_t2 = [idx for idx, target in enumerate(test_dataset.targets) if target in labels_t2]\n",
    "loader_t2 = torch.utils.data.DataLoader(torch.utils.data.Subset(test_dataset, indices_t2),\n",
    "                                     batch_size = 1,\n",
    "                                     shuffle = True)\n",
    "\n",
    "print(len(loader_t1))\n",
    "print(len(loader_t2))"
   ]
  },
  {
   "cell_type": "code",
   "execution_count": 9,
   "id": "e1e1dcb4-4bbe-4e9c-85d6-7267253f22c3",
   "metadata": {},
   "outputs": [],
   "source": [
    "def show_images(images):\n",
    "    sqrtn = int(np.ceil(np.sqrt(images.shape[0])))\n",
    "    for index, image in enumerate(images):\n",
    "        plt.subplot(sqrtn, sqrtn, index+1)\n",
    "        plt.imshow(image.reshape(28, 28))\n",
    "        plt.axis('off')# Load model"
   ]
  },
  {
   "cell_type": "code",
   "execution_count": 10,
   "id": "80cc266f-69bc-4783-8551-a8dec0e405d2",
   "metadata": {},
   "outputs": [
    {
     "data": {
      "image/png": "[encoded data removed]",
      "text/plain": [
       "<Figure size 640x480 with 1 Axes>"
      ]
     },
     "metadata": {},
     "output_type": "display_data"
    },
    {
     "data": {
      "image/png": "[encoded data removed]",
      "text/plain": [
       "<Figure size 640x480 with 1 Axes>"
      ]
     },
     "metadata": {},
     "output_type": "display_data"
    },
    {
     "name": "stdout",
     "output_type": "stream",
     "text": [
      "0.008018636144697666\n"
     ]
    },
    {
     "data": {
      "image/png": "[encoded data removed]",
      "text/plain": [
       "<Figure size 640x480 with 1 Axes>"
      ]
     },
     "metadata": {},
     "output_type": "display_data"
    },
    {
     "data": {
      "image/png": "[encoded data removed]",
      "text/plain": [
       "<Figure size 640x480 with 1 Axes>"
      ]
     },
     "metadata": {},
     "output_type": "display_data"
    },
    {
     "name": "stdout",
     "output_type": "stream",
     "text": [
      "0.0013812507968395948\n"
     ]
    },
    {
     "data": {
      "image/png": "[encoded data removed]",
      "text/plain": [
       "<Figure size 640x480 with 1 Axes>"
      ]
     },
     "metadata": {},
     "output_type": "display_data"
    },
    {
     "data": {
      "image/png": "[encoded data removed]",
      "text/plain": [
       "<Figure size 640x480 with 1 Axes>"
      ]
     },
     "metadata": {},
     "output_type": "display_data"
    },
    {
     "name": "stdout",
     "output_type": "stream",
     "text": [
      "0.006842826027423143\n"
     ]
    }
   ],
   "source": [
    "criterion = nn.MSELoss()\n",
    "loss_exclude_dist_arr = []\n",
    "model.eval()\n",
    "with torch.no_grad():\n",
    "    for i, (data, target) in enumerate(loader_t1):\n",
    "        inputs = data.to(device)\n",
    "        # Forward\n",
    "        model.zero_grad()\n",
    "        \n",
    "        decoded = model(inputs)\n",
    "\n",
    "        if i<3:\n",
    "            show_images(inputs.detach().cpu())\n",
    "            plt.show()# Forward\n",
    "    \n",
    "            show_images(decoded.detach().cpu())\n",
    "            plt.show()# Forward\n",
    "            \n",
    "            print(loss.item()) \n",
    "        \n",
    "        \n",
    "        loss = criterion(inputs.to(device), decoded)\n",
    "        loss_exclude_dist_arr.append(loss.item())"
   ]
  },
  {
   "cell_type": "code",
   "execution_count": 11,
   "id": "1fb52334-39fe-4984-9e7a-733613791a60",
   "metadata": {},
   "outputs": [
    {
     "data": {
      "image/png": "[encoded data removed]",
      "text/plain": [
       "<Figure size 640x480 with 1 Axes>"
      ]
     },
     "metadata": {},
     "output_type": "display_data"
    },
    {
     "data": {
      "image/png": "[encoded data removed]",
      "text/plain": [
       "<Figure size 640x480 with 1 Axes>"
      ]
     },
     "metadata": {},
     "output_type": "display_data"
    },
    {
     "name": "stdout",
     "output_type": "stream",
     "text": [
      "0.008110425435006618\n"
     ]
    },
    {
     "data": {
      "image/png": "[encoded data removed]",
      "text/plain": [
       "<Figure size 640x480 with 1 Axes>"
      ]
     },
     "metadata": {},
     "output_type": "display_data"
    },
    {
     "data": {
      "image/png": "[encoded data removed]",
      "text/plain": [
       "<Figure size 640x480 with 1 Axes>"
      ]
     },
     "metadata": {},
     "output_type": "display_data"
    },
    {
     "name": "stdout",
     "output_type": "stream",
     "text": [
      "0.03314511105418205\n"
     ]
    },
    {
     "data": {
      "image/png": "[encoded data removed]",
      "text/plain": [
       "<Figure size 640x480 with 1 Axes>"
      ]
     },
     "metadata": {},
     "output_type": "display_data"
    },
    {
     "data": {
      "image/png": "[encoded data removed]",
      "text/plain": [
       "<Figure size 640x480 with 1 Axes>"
      ]
     },
     "metadata": {},
     "output_type": "display_data"
    },
    {
     "name": "stdout",
     "output_type": "stream",
     "text": [
      "0.02788018062710762\n"
     ]
    }
   ],
   "source": [
    "criterion = nn.MSELoss()\n",
    "loss_anomaly_dist_arr = []\n",
    "model.eval()\n",
    "with torch.no_grad():\n",
    "    for i, (data, target) in enumerate(loader_t2):\n",
    "        inputs = data.to(device)\n",
    "        # Forward\n",
    "        model.zero_grad()\n",
    "        \n",
    "        decoded = model(inputs)\n",
    "\n",
    "        if i<3:\n",
    "            show_images(inputs.detach().cpu())\n",
    "            plt.show()# Forward\n",
    "    \n",
    "            show_images(decoded.detach().cpu())\n",
    "            plt.show()# Forward\n",
    "            \n",
    "            print(loss.item())        \n",
    "        \n",
    "        loss = criterion(inputs.to(device), decoded)\n",
    "        loss_anomaly_dist_arr.append(loss.item())"
   ]
  },
  {
   "cell_type": "code",
   "execution_count": 12,
   "id": "4938b75c-d671-444d-ab03-32b405936d30",
   "metadata": {},
   "outputs": [
    {
     "data": {
      "text/plain": [
       "5051"
      ]
     },
     "execution_count": 12,
     "metadata": {},
     "output_type": "execute_result"
    }
   ],
   "source": [
    "len(loss_exclude_dist_arr)"
   ]
  },
  {
   "cell_type": "code",
   "execution_count": 13,
   "id": "060c7c99-88ab-4ac6-8765-339782309875",
   "metadata": {},
   "outputs": [
    {
     "data": {
      "text/plain": [
       "4949"
      ]
     },
     "execution_count": 13,
     "metadata": {},
     "output_type": "execute_result"
    }
   ],
   "source": [
    "len(loss_anomaly_dist_arr)"
   ]
  },
  {
   "cell_type": "code",
   "execution_count": 26,
   "id": "bedd2e57-7a0b-43a9-9387-4272b3e2d4cd",
   "metadata": {},
   "outputs": [
    {
     "data": {
      "text/plain": [
       "<matplotlib.lines.Line2D at 0x7f3788a55010>"
      ]
     },
     "execution_count": 26,
     "metadata": {},
     "output_type": "execute_result"
    },
    {
     "data": {
      "image/png": "[encoded data removed]",
      "text/plain": [
       "<Figure size 1200x600 with 1 Axes>"
      ]
     },
     "metadata": {},
     "output_type": "display_data"
    }
   ],
   "source": [
    "# Validation\n",
    "all_test_loss = loss_exclude_dist_arr + loss_anomaly_dist_arr\n",
    "len(all_test_loss)\n",
    "threshold = 0.01\n",
    "\n",
    "plt.figure(figsize=(12,6))\n",
    "plt.title('Loss Distribution')\n",
    "sns.histplot(all_test_loss, bins=100,kde=True, color='blue')\n",
    "plt.axvline(threshold, 0.0, 10, color='r')"
   ]
  },
  {
   "cell_type": "code",
   "execution_count": 27,
   "id": "169587c6-6367-46b4-ac62-ec204b52b553",
   "metadata": {},
   "outputs": [
    {
     "name": "stdout",
     "output_type": "stream",
     "text": [
      "[TP] 4050\t[FP] 899\t\n",
      "[TN] 3797\t[FN] 1254\n"
     ]
    }
   ],
   "source": [
    "tp = 0\n",
    "fp = 0\n",
    "tn = 0\n",
    "fn = 0\n",
    "\n",
    "# Anomaly detection: true positive: it is anomaly and it is detected as anomaly\n",
    "for i, v in enumerate(loss_anomaly_dist_arr):\n",
    "    if v >= threshold:\n",
    "        tp += 1\n",
    "    else:\n",
    "        fp += 1\n",
    "\n",
    "for i, v in enumerate(loss_exclude_dist_arr):\n",
    "    if v < threshold:\n",
    "        tn += 1\n",
    "    else:\n",
    "        fn += 1\n",
    "\n",
    "print('[TP] {}\\t[FP] {}\\t'.format(tp, fp))\n",
    "print('[TN] {}\\t[FN] {}'.format(tn, fn))"
   ]
  },
  {
   "cell_type": "code",
   "execution_count": 28,
   "id": "cde60357-7807-4b5e-bd3d-8101d1e1bcaa",
   "metadata": {},
   "outputs": [
    {
     "data": {
      "text/plain": [
       "[Text(0.5, 23.52222222222222, 'Predicted'),\n",
       " Text(50.722222222222214, 0.5, 'Actual')]"
      ]
     },
     "execution_count": 28,
     "metadata": {},
     "output_type": "execute_result"
    },
    {
     "data": {
      "image/png": "[encoded data removed]",
      "text/plain": [
       "<Figure size 640x480 with 2 Axes>"
      ]
     },
     "metadata": {},
     "output_type": "display_data"
    }
   ],
   "source": [
    "conf = [[tn,fp],[fn,tp]]\n",
    "plt.figure()\n",
    "s = sns.heatmap(conf,annot=True,annot_kws={\"size\": 16},fmt='g')\n",
    "s.set(xlabel='Predicted', ylabel='Actual')"
   ]
  },
  {
   "cell_type": "code",
   "execution_count": 29,
   "id": "fdf7e973-e965-4282-a9cc-a1ad5bdefdb0",
   "metadata": {},
   "outputs": [
    {
     "name": "stdout",
     "output_type": "stream",
     "text": [
      "precision 0.8183471408365326\n",
      "recall 0.7635746606334841\n",
      "f1 Score 0.7900126792158392\n"
     ]
    }
   ],
   "source": [
    "precision=tp/(tp+fp)\n",
    "recall=tp/(tp+fn)\n",
    "f1=2*precision*recall/(precision+recall)\n",
    "print('precision {}'.format(precision))\n",
    "print('recall {}'.format(recall))\n",
    "print('f1 Score {}'.format(f1))"
   ]
  },
  {
   "cell_type": "code",
   "execution_count": null,
   "id": "ac602dbe-3546-4392-b9ff-ffcd93c3e0a1",
   "metadata": {},
   "outputs": [],
   "source": []
  },
  {
   "cell_type": "code",
   "execution_count": null,
   "id": "8bd716b5-b490-43df-a8b4-85d93a17016e",
   "metadata": {},
   "outputs": [],
   "source": []
  }
 ],
 "metadata": {
  "kernelspec": {
   "display_name": "Python 3 (ipykernel)",
   "language": "python",
   "name": "python3"
  },
  "language_info": {
   "codemirror_mode": {
    "name": "ipython",
    "version": 3
   },
   "file_extension": ".py",
   "mimetype": "text/x-python",
   "name": "python",
   "nbconvert_exporter": "python",
   "pygments_lexer": "ipython3",
   "version": "3.12.8"
  }
 },
 "nbformat": 4,
 "nbformat_minor": 5
}
